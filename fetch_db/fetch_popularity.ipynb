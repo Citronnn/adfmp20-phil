{
 "cells": [
  {
   "cell_type": "code",
   "execution_count": 1,
   "metadata": {},
   "outputs": [],
   "source": [
    "from collections import deque, namedtuple\n",
    "from IPython.display import HTML, display\n",
    "from IPython.core.debugger import set_trace\n",
    "from tqdm import tqdm\n",
    "\n",
    "import pandas as pd\n",
    "import numpy as np\n",
    "import requests\n",
    "import sqlite3\n",
    "import urllib"
   ]
  },
  {
   "cell_type": "code",
   "execution_count": 2,
   "metadata": {},
   "outputs": [],
   "source": [
    "SAMPLE_ID = 25224070\n",
    "START = 20140101\n",
    "END = 20200301\n",
    "\n",
    "DB = './db.sqlite'\n",
    "TABLES = ['PhilosophicalSchool', 'Philosopher', 'NotableIdea', 'MainInterest', 'Era'       , 'Work'      , 'PhilosopherWasBorn'   , 'PhilosopherDied']\n",
    "FIELDS = ['wikiPageID'         , 'wikiPageID',   'wikiPageID', 'wikiPageID',   'wikiPageID', 'wikiPageID', 'birthPlace_wikiPageID', 'deathPlace_wikiPageID']\n",
    "TABLE_NAME = 'WikiPagePopularity'\n",
    "TEMP_FETCH = './_temp_fetch.csv'"
   ]
  },
  {
   "cell_type": "code",
   "execution_count": 3,
   "metadata": {},
   "outputs": [
    {
     "name": "stdout",
     "output_type": "stream",
     "text": [
      "Wikipedia:Pageview statistics\n"
     ]
    }
   ],
   "source": [
    "def fetch_title(page_id):\n",
    "    r = requests.get('https://en.wikipedia.org/w/api.php', params={\n",
    "        'action': 'query',\n",
    "        'prop': 'info',\n",
    "        'pageids': page_id,\n",
    "        'format': 'json'\n",
    "    })\n",
    "    try:\n",
    "         return r.json()['query']['pages'][str(page_id)]['title']\n",
    "    except Exception as exp:\n",
    "        print('Error:', page_id)\n",
    "        display(page_id)\n",
    "    \n",
    "title = fetch_title(SAMPLE_ID)\n",
    "print(title)"
   ]
  },
  {
   "cell_type": "code",
   "execution_count": 4,
   "metadata": {},
   "outputs": [
    {
     "data": {
      "text/plain": [
       "166605"
      ]
     },
     "execution_count": 4,
     "metadata": {},
     "output_type": "execute_result"
    }
   ],
   "source": [
    "def fetch_popularity(page_title):\n",
    "    page_title = urllib.parse.quote_plus(page_title.replace(' ', '_'))\n",
    "    r = requests.get(\n",
    "        'https://wikimedia.org/api/rest_v1/metrics/pageviews/per-article/'\n",
    "        f'en.wikipedia.org/all-access/all-agents/{page_title}/monthly/{START}/{END}'\n",
    "    )\n",
    "    try:\n",
    "        res = r.json()['items']\n",
    "    except Exception as exp:\n",
    "        print('Error:', page_title)\n",
    "        display(exp)\n",
    "        return None\n",
    "    df = pd.DataFrame(res)\n",
    "    return df.views.sum()\n",
    "\n",
    "fetch_popularity(title)"
   ]
  },
  {
   "cell_type": "code",
   "execution_count": 5,
   "metadata": {},
   "outputs": [],
   "source": [
    "def get_ids():\n",
    "    try:\n",
    "        conn = sqlite3.connect(DB)\n",
    "        ids = set()\n",
    "        for table_name, field in zip(TABLES, FIELDS):\n",
    "            df = pd.read_sql(f'SELECT * FROM {table_name}', conn)\n",
    "            df[field].dropna().apply(lambda val: ids.add(int(val)))\n",
    "    finally:\n",
    "        conn.close\n",
    "    ids = list(ids)\n",
    "    ids.sort()\n",
    "    return ids\n",
    "        \n",
    "ids = get_ids()"
   ]
  },
  {
   "cell_type": "code",
   "execution_count": 6,
   "metadata": {},
   "outputs": [],
   "source": [
    "fetched = deque()\n",
    "Popularity = namedtuple('Popularity', ['wikiPageID', 'total_visits'])"
   ]
  },
  {
   "cell_type": "code",
   "execution_count": 7,
   "metadata": {},
   "outputs": [
    {
     "name": "stdout",
     "output_type": "stream",
     "text": [
      "Total: 7050\n",
      "Restored: 6997\n",
      "None: 53\n",
      "Remaining: 53\n"
     ]
    }
   ],
   "source": [
    "def restore_fetched(ids, fetched):\n",
    "    df = pd.read_csv(TEMP_FETCH)\n",
    "    print('Total:', len(ids))\n",
    "    nones = 0\n",
    "    for id_, pop in df.itertuples(index = False):\n",
    "        if pop is not None and pop > 0:\n",
    "            fetched.append(Popularity(id_, pop))\n",
    "            ids.remove(id_)\n",
    "        else:\n",
    "            nones += 1\n",
    "    print('Restored:', len(fetched))\n",
    "    print('None:', nones)\n",
    "    print('Remaining:', len(ids))\n",
    "        \n",
    "restore_fetched(ids, fetched)"
   ]
  },
  {
   "cell_type": "code",
   "execution_count": 8,
   "metadata": {},
   "outputs": [
    {
     "name": "stderr",
     "output_type": "stream",
     "text": [
      "  0%|          | 0/53 [00:00<?, ?it/s]"
     ]
    },
    {
     "name": "stdout",
     "output_type": "stream",
     "text": [
      "Error: 286153\n"
     ]
    },
    {
     "data": {
      "text/plain": [
       "286153"
      ]
     },
     "metadata": {},
     "output_type": "display_data"
    },
    {
     "name": "stderr",
     "output_type": "stream",
     "text": [
      "  2%|▏         | 1/53 [00:01<01:30,  1.75s/it]"
     ]
    },
    {
     "name": "stdout",
     "output_type": "stream",
     "text": [
      "Error: 329399\n"
     ]
    },
    {
     "data": {
      "text/plain": [
       "329399"
      ]
     },
     "metadata": {},
     "output_type": "display_data"
    },
    {
     "name": "stderr",
     "output_type": "stream",
     "text": [
      "  4%|▍         | 2/53 [00:02<01:15,  1.47s/it]"
     ]
    },
    {
     "name": "stdout",
     "output_type": "stream",
     "text": [
      "Error: 1486408\n"
     ]
    },
    {
     "data": {
      "text/plain": [
       "1486408"
      ]
     },
     "metadata": {},
     "output_type": "display_data"
    },
    {
     "name": "stderr",
     "output_type": "stream",
     "text": [
      "  6%|▌         | 3/53 [00:03<01:02,  1.26s/it]"
     ]
    },
    {
     "name": "stdout",
     "output_type": "stream",
     "text": [
      "Error: 1498741\n"
     ]
    },
    {
     "data": {
      "text/plain": [
       "1498741"
      ]
     },
     "metadata": {},
     "output_type": "display_data"
    },
    {
     "name": "stderr",
     "output_type": "stream",
     "text": [
      "  8%|▊         | 4/53 [00:04<00:54,  1.11s/it]"
     ]
    },
    {
     "name": "stdout",
     "output_type": "stream",
     "text": [
      "Error: 2879398\n"
     ]
    },
    {
     "data": {
      "text/plain": [
       "2879398"
      ]
     },
     "metadata": {},
     "output_type": "display_data"
    },
    {
     "name": "stderr",
     "output_type": "stream",
     "text": [
      "  9%|▉         | 5/53 [00:05<00:51,  1.08s/it]"
     ]
    },
    {
     "name": "stdout",
     "output_type": "stream",
     "text": [
      "Error: 6197115\n"
     ]
    },
    {
     "data": {
      "text/plain": [
       "6197115"
      ]
     },
     "metadata": {},
     "output_type": "display_data"
    },
    {
     "name": "stderr",
     "output_type": "stream",
     "text": [
      " 11%|█▏        | 6/53 [00:08<01:20,  1.71s/it]"
     ]
    },
    {
     "name": "stdout",
     "output_type": "stream",
     "text": [
      "Error: 6792310\n"
     ]
    },
    {
     "data": {
      "text/plain": [
       "6792310"
      ]
     },
     "metadata": {},
     "output_type": "display_data"
    },
    {
     "name": "stderr",
     "output_type": "stream",
     "text": [
      " 13%|█▎        | 7/53 [00:14<02:15,  2.95s/it]"
     ]
    },
    {
     "name": "stdout",
     "output_type": "stream",
     "text": [
      "Error: 6927115\n"
     ]
    },
    {
     "data": {
      "text/plain": [
       "6927115"
      ]
     },
     "metadata": {},
     "output_type": "display_data"
    },
    {
     "name": "stderr",
     "output_type": "stream",
     "text": [
      " 15%|█▌        | 8/53 [00:20<02:55,  3.90s/it]"
     ]
    },
    {
     "name": "stdout",
     "output_type": "stream",
     "text": [
      "Error: 7179351\n"
     ]
    },
    {
     "data": {
      "text/plain": [
       "7179351"
      ]
     },
     "metadata": {},
     "output_type": "display_data"
    },
    {
     "name": "stderr",
     "output_type": "stream",
     "text": [
      " 17%|█▋        | 9/53 [00:25<03:04,  4.19s/it]"
     ]
    },
    {
     "name": "stdout",
     "output_type": "stream",
     "text": [
      "Error: 7655409\n"
     ]
    },
    {
     "data": {
      "text/plain": [
       "7655409"
      ]
     },
     "metadata": {},
     "output_type": "display_data"
    },
    {
     "name": "stderr",
     "output_type": "stream",
     "text": [
      " 19%|█▉        | 10/53 [00:26<02:18,  3.23s/it]"
     ]
    },
    {
     "name": "stdout",
     "output_type": "stream",
     "text": [
      "Error: 7661785\n"
     ]
    },
    {
     "data": {
      "text/plain": [
       "7661785"
      ]
     },
     "metadata": {},
     "output_type": "display_data"
    },
    {
     "name": "stderr",
     "output_type": "stream",
     "text": [
      " 21%|██        | 11/53 [00:28<02:04,  2.97s/it]"
     ]
    },
    {
     "name": "stdout",
     "output_type": "stream",
     "text": [
      "Error: 8253337\n"
     ]
    },
    {
     "data": {
      "text/plain": [
       "8253337"
      ]
     },
     "metadata": {},
     "output_type": "display_data"
    },
    {
     "name": "stderr",
     "output_type": "stream",
     "text": [
      " 23%|██▎       | 12/53 [00:31<01:57,  2.87s/it]"
     ]
    },
    {
     "name": "stdout",
     "output_type": "stream",
     "text": [
      "Error: 8368474\n"
     ]
    },
    {
     "data": {
      "text/plain": [
       "8368474"
      ]
     },
     "metadata": {},
     "output_type": "display_data"
    },
    {
     "name": "stderr",
     "output_type": "stream",
     "text": [
      " 25%|██▍       | 13/53 [00:32<01:31,  2.30s/it]"
     ]
    },
    {
     "name": "stdout",
     "output_type": "stream",
     "text": [
      "Error: 11401875\n"
     ]
    },
    {
     "data": {
      "text/plain": [
       "11401875"
      ]
     },
     "metadata": {},
     "output_type": "display_data"
    },
    {
     "name": "stderr",
     "output_type": "stream",
     "text": [
      " 26%|██▋       | 14/53 [00:32<01:09,  1.79s/it]"
     ]
    },
    {
     "name": "stdout",
     "output_type": "stream",
     "text": [
      "Error: 13355860\n"
     ]
    },
    {
     "data": {
      "text/plain": [
       "13355860"
      ]
     },
     "metadata": {},
     "output_type": "display_data"
    },
    {
     "name": "stderr",
     "output_type": "stream",
     "text": [
      " 28%|██▊       | 15/53 [00:40<02:12,  3.48s/it]"
     ]
    },
    {
     "name": "stdout",
     "output_type": "stream",
     "text": [
      "Error: 18437404\n"
     ]
    },
    {
     "data": {
      "text/plain": [
       "18437404"
      ]
     },
     "metadata": {},
     "output_type": "display_data"
    },
    {
     "name": "stderr",
     "output_type": "stream",
     "text": [
      " 30%|███       | 16/53 [00:41<01:41,  2.74s/it]"
     ]
    },
    {
     "name": "stdout",
     "output_type": "stream",
     "text": [
      "Error: 20627628\n"
     ]
    },
    {
     "data": {
      "text/plain": [
       "20627628"
      ]
     },
     "metadata": {},
     "output_type": "display_data"
    },
    {
     "name": "stderr",
     "output_type": "stream",
     "text": [
      " 32%|███▏      | 17/53 [00:42<01:20,  2.23s/it]"
     ]
    },
    {
     "name": "stdout",
     "output_type": "stream",
     "text": [
      "Error: 22695176\n"
     ]
    },
    {
     "data": {
      "text/plain": [
       "22695176"
      ]
     },
     "metadata": {},
     "output_type": "display_data"
    },
    {
     "name": "stderr",
     "output_type": "stream",
     "text": [
      " 34%|███▍      | 18/53 [00:48<01:56,  3.34s/it]"
     ]
    },
    {
     "name": "stdout",
     "output_type": "stream",
     "text": [
      "Error: 23040717\n"
     ]
    },
    {
     "data": {
      "text/plain": [
       "23040717"
      ]
     },
     "metadata": {},
     "output_type": "display_data"
    },
    {
     "name": "stderr",
     "output_type": "stream",
     "text": [
      " 36%|███▌      | 19/53 [00:49<01:30,  2.66s/it]"
     ]
    },
    {
     "name": "stdout",
     "output_type": "stream",
     "text": [
      "Error: 23763468\n"
     ]
    },
    {
     "data": {
      "text/plain": [
       "23763468"
      ]
     },
     "metadata": {},
     "output_type": "display_data"
    },
    {
     "name": "stderr",
     "output_type": "stream",
     "text": [
      " 38%|███▊      | 20/53 [00:49<01:07,  2.05s/it]"
     ]
    },
    {
     "name": "stdout",
     "output_type": "stream",
     "text": [
      "Error: 27557728\n"
     ]
    },
    {
     "data": {
      "text/plain": [
       "27557728"
      ]
     },
     "metadata": {},
     "output_type": "display_data"
    },
    {
     "name": "stderr",
     "output_type": "stream",
     "text": [
      " 40%|███▉      | 21/53 [00:52<01:08,  2.14s/it]"
     ]
    },
    {
     "name": "stdout",
     "output_type": "stream",
     "text": [
      "Error: 30846343\n"
     ]
    },
    {
     "data": {
      "text/plain": [
       "30846343"
      ]
     },
     "metadata": {},
     "output_type": "display_data"
    },
    {
     "name": "stderr",
     "output_type": "stream",
     "text": [
      " 42%|████▏     | 22/53 [00:52<00:52,  1.70s/it]"
     ]
    },
    {
     "name": "stdout",
     "output_type": "stream",
     "text": [
      "Error: 32395653\n"
     ]
    },
    {
     "data": {
      "text/plain": [
       "32395653"
      ]
     },
     "metadata": {},
     "output_type": "display_data"
    },
    {
     "name": "stderr",
     "output_type": "stream",
     "text": [
      " 43%|████▎     | 23/53 [00:53<00:45,  1.52s/it]"
     ]
    },
    {
     "name": "stdout",
     "output_type": "stream",
     "text": [
      "Error: 32633712\n"
     ]
    },
    {
     "data": {
      "text/plain": [
       "32633712"
      ]
     },
     "metadata": {},
     "output_type": "display_data"
    },
    {
     "name": "stderr",
     "output_type": "stream",
     "text": [
      " 45%|████▌     | 24/53 [00:54<00:35,  1.24s/it]"
     ]
    },
    {
     "name": "stdout",
     "output_type": "stream",
     "text": [
      "Error: 33230227\n"
     ]
    },
    {
     "data": {
      "text/plain": [
       "33230227"
      ]
     },
     "metadata": {},
     "output_type": "display_data"
    },
    {
     "name": "stderr",
     "output_type": "stream",
     "text": [
      " 47%|████▋     | 25/53 [00:55<00:29,  1.06s/it]"
     ]
    },
    {
     "name": "stdout",
     "output_type": "stream",
     "text": [
      "Error: 33287285\n"
     ]
    },
    {
     "data": {
      "text/plain": [
       "33287285"
      ]
     },
     "metadata": {},
     "output_type": "display_data"
    },
    {
     "name": "stderr",
     "output_type": "stream",
     "text": [
      " 49%|████▉     | 26/53 [00:57<00:37,  1.40s/it]"
     ]
    },
    {
     "name": "stdout",
     "output_type": "stream",
     "text": [
      "Error: 33529713\n"
     ]
    },
    {
     "data": {
      "text/plain": [
       "33529713"
      ]
     },
     "metadata": {},
     "output_type": "display_data"
    },
    {
     "name": "stderr",
     "output_type": "stream",
     "text": [
      " 51%|█████     | 27/53 [01:00<00:50,  1.96s/it]"
     ]
    },
    {
     "name": "stdout",
     "output_type": "stream",
     "text": [
      "Error: 33744106\n"
     ]
    },
    {
     "data": {
      "text/plain": [
       "33744106"
      ]
     },
     "metadata": {},
     "output_type": "display_data"
    },
    {
     "name": "stderr",
     "output_type": "stream",
     "text": [
      " 53%|█████▎    | 28/53 [01:02<00:51,  2.05s/it]"
     ]
    },
    {
     "name": "stdout",
     "output_type": "stream",
     "text": [
      "Error: 35844686\n"
     ]
    },
    {
     "data": {
      "text/plain": [
       "35844686"
      ]
     },
     "metadata": {},
     "output_type": "display_data"
    },
    {
     "name": "stderr",
     "output_type": "stream",
     "text": [
      " 55%|█████▍    | 29/53 [01:05<00:50,  2.10s/it]"
     ]
    },
    {
     "name": "stdout",
     "output_type": "stream",
     "text": [
      "Error: 37563858\n"
     ]
    },
    {
     "data": {
      "text/plain": [
       "37563858"
      ]
     },
     "metadata": {},
     "output_type": "display_data"
    },
    {
     "name": "stderr",
     "output_type": "stream",
     "text": [
      " 57%|█████▋    | 30/53 [01:07<00:49,  2.14s/it]"
     ]
    },
    {
     "name": "stdout",
     "output_type": "stream",
     "text": [
      "Error: 38962106\n"
     ]
    },
    {
     "data": {
      "text/plain": [
       "38962106"
      ]
     },
     "metadata": {},
     "output_type": "display_data"
    },
    {
     "name": "stderr",
     "output_type": "stream",
     "text": [
      " 58%|█████▊    | 31/53 [01:10<00:56,  2.57s/it]"
     ]
    },
    {
     "name": "stdout",
     "output_type": "stream",
     "text": [
      "Error: 39155457\n"
     ]
    },
    {
     "data": {
      "text/plain": [
       "39155457"
      ]
     },
     "metadata": {},
     "output_type": "display_data"
    },
    {
     "name": "stderr",
     "output_type": "stream",
     "text": [
      " 60%|██████    | 32/53 [01:12<00:47,  2.28s/it]"
     ]
    },
    {
     "name": "stdout",
     "output_type": "stream",
     "text": [
      "Error: 39296255\n"
     ]
    },
    {
     "data": {
      "text/plain": [
       "39296255"
      ]
     },
     "metadata": {},
     "output_type": "display_data"
    },
    {
     "name": "stderr",
     "output_type": "stream",
     "text": [
      " 62%|██████▏   | 33/53 [01:15<00:51,  2.58s/it]"
     ]
    },
    {
     "name": "stdout",
     "output_type": "stream",
     "text": [
      "Error: 39681168\n"
     ]
    },
    {
     "data": {
      "text/plain": [
       "39681168"
      ]
     },
     "metadata": {},
     "output_type": "display_data"
    },
    {
     "name": "stderr",
     "output_type": "stream",
     "text": [
      " 64%|██████▍   | 34/53 [01:17<00:45,  2.40s/it]"
     ]
    },
    {
     "name": "stdout",
     "output_type": "stream",
     "text": [
      "Error: 41082682\n"
     ]
    },
    {
     "data": {
      "text/plain": [
       "41082682"
      ]
     },
     "metadata": {},
     "output_type": "display_data"
    },
    {
     "name": "stderr",
     "output_type": "stream",
     "text": [
      " 66%|██████▌   | 35/53 [01:19<00:41,  2.32s/it]"
     ]
    },
    {
     "name": "stdout",
     "output_type": "stream",
     "text": [
      "Error: 41177736\n"
     ]
    },
    {
     "data": {
      "text/plain": [
       "41177736"
      ]
     },
     "metadata": {},
     "output_type": "display_data"
    },
    {
     "name": "stderr",
     "output_type": "stream",
     "text": [
      " 68%|██████▊   | 36/53 [01:25<00:54,  3.22s/it]"
     ]
    },
    {
     "name": "stdout",
     "output_type": "stream",
     "text": [
      "Error: 42465510\n"
     ]
    },
    {
     "data": {
      "text/plain": [
       "42465510"
      ]
     },
     "metadata": {},
     "output_type": "display_data"
    },
    {
     "name": "stderr",
     "output_type": "stream",
     "text": [
      " 70%|██████▉   | 37/53 [01:26<00:40,  2.55s/it]"
     ]
    },
    {
     "name": "stdout",
     "output_type": "stream",
     "text": [
      "Error: 46259924\n"
     ]
    },
    {
     "data": {
      "text/plain": [
       "46259924"
      ]
     },
     "metadata": {},
     "output_type": "display_data"
    },
    {
     "name": "stderr",
     "output_type": "stream",
     "text": [
      " 72%|███████▏  | 38/53 [01:28<00:37,  2.47s/it]"
     ]
    },
    {
     "name": "stdout",
     "output_type": "stream",
     "text": [
      "Error: 47023314\n"
     ]
    },
    {
     "data": {
      "text/plain": [
       "47023314"
      ]
     },
     "metadata": {},
     "output_type": "display_data"
    },
    {
     "name": "stderr",
     "output_type": "stream",
     "text": [
      " 74%|███████▎  | 39/53 [01:29<00:29,  2.11s/it]"
     ]
    },
    {
     "name": "stdout",
     "output_type": "stream",
     "text": [
      "Error: 47040274\n"
     ]
    },
    {
     "data": {
      "text/plain": [
       "47040274"
      ]
     },
     "metadata": {},
     "output_type": "display_data"
    },
    {
     "name": "stderr",
     "output_type": "stream",
     "text": [
      " 75%|███████▌  | 40/53 [01:31<00:24,  1.87s/it]"
     ]
    },
    {
     "name": "stdout",
     "output_type": "stream",
     "text": [
      "Error: 47432404\n"
     ]
    },
    {
     "data": {
      "text/plain": [
       "47432404"
      ]
     },
     "metadata": {},
     "output_type": "display_data"
    },
    {
     "name": "stderr",
     "output_type": "stream",
     "text": [
      " 77%|███████▋  | 41/53 [01:33<00:25,  2.15s/it]"
     ]
    },
    {
     "name": "stdout",
     "output_type": "stream",
     "text": [
      "Error: 48644451\n"
     ]
    },
    {
     "data": {
      "text/plain": [
       "48644451"
      ]
     },
     "metadata": {},
     "output_type": "display_data"
    },
    {
     "name": "stderr",
     "output_type": "stream",
     "text": [
      " 79%|███████▉  | 42/53 [01:39<00:35,  3.26s/it]"
     ]
    },
    {
     "name": "stdout",
     "output_type": "stream",
     "text": [
      "Error: 48940433\n"
     ]
    },
    {
     "data": {
      "text/plain": [
       "48940433"
      ]
     },
     "metadata": {},
     "output_type": "display_data"
    },
    {
     "name": "stderr",
     "output_type": "stream",
     "text": [
      " 81%|████████  | 43/53 [01:41<00:26,  2.67s/it]"
     ]
    },
    {
     "name": "stdout",
     "output_type": "stream",
     "text": [
      "Error: 50511439\n"
     ]
    },
    {
     "data": {
      "text/plain": [
       "50511439"
      ]
     },
     "metadata": {},
     "output_type": "display_data"
    },
    {
     "name": "stderr",
     "output_type": "stream",
     "text": [
      " 83%|████████▎ | 44/53 [01:41<00:19,  2.14s/it]"
     ]
    },
    {
     "name": "stdout",
     "output_type": "stream",
     "text": [
      "Error: 51021251\n"
     ]
    },
    {
     "data": {
      "text/plain": [
       "51021251"
      ]
     },
     "metadata": {},
     "output_type": "display_data"
    },
    {
     "name": "stderr",
     "output_type": "stream",
     "text": [
      " 85%|████████▍ | 45/53 [01:42<00:14,  1.78s/it]"
     ]
    },
    {
     "name": "stdout",
     "output_type": "stream",
     "text": [
      "Error: 51109323\n"
     ]
    },
    {
     "data": {
      "text/plain": [
       "51109323"
      ]
     },
     "metadata": {},
     "output_type": "display_data"
    },
    {
     "name": "stderr",
     "output_type": "stream",
     "text": [
      " 87%|████████▋ | 46/53 [01:46<00:15,  2.20s/it]"
     ]
    },
    {
     "name": "stdout",
     "output_type": "stream",
     "text": [
      "Error: 51290174\n"
     ]
    },
    {
     "data": {
      "text/plain": [
       "51290174"
      ]
     },
     "metadata": {},
     "output_type": "display_data"
    },
    {
     "name": "stderr",
     "output_type": "stream",
     "text": [
      " 89%|████████▊ | 47/53 [01:49<00:15,  2.51s/it]"
     ]
    },
    {
     "name": "stdout",
     "output_type": "stream",
     "text": [
      "Error: 51360124\n"
     ]
    },
    {
     "data": {
      "text/plain": [
       "51360124"
      ]
     },
     "metadata": {},
     "output_type": "display_data"
    },
    {
     "name": "stderr",
     "output_type": "stream",
     "text": [
      " 91%|█████████ | 48/53 [01:51<00:12,  2.48s/it]"
     ]
    },
    {
     "name": "stdout",
     "output_type": "stream",
     "text": [
      "Error: 51360363\n"
     ]
    },
    {
     "data": {
      "text/plain": [
       "51360363"
      ]
     },
     "metadata": {},
     "output_type": "display_data"
    },
    {
     "name": "stderr",
     "output_type": "stream",
     "text": [
      " 92%|█████████▏| 49/53 [01:53<00:09,  2.29s/it]"
     ]
    },
    {
     "name": "stdout",
     "output_type": "stream",
     "text": [
      "Error: 51360495\n"
     ]
    },
    {
     "data": {
      "text/plain": [
       "51360495"
      ]
     },
     "metadata": {},
     "output_type": "display_data"
    },
    {
     "name": "stderr",
     "output_type": "stream",
     "text": [
      " 94%|█████████▍| 50/53 [01:56<00:07,  2.63s/it]"
     ]
    },
    {
     "name": "stdout",
     "output_type": "stream",
     "text": [
      "Error: 51360731\n"
     ]
    },
    {
     "data": {
      "text/plain": [
       "51360731"
      ]
     },
     "metadata": {},
     "output_type": "display_data"
    },
    {
     "name": "stderr",
     "output_type": "stream",
     "text": [
      " 96%|█████████▌| 51/53 [02:05<00:08,  4.31s/it]"
     ]
    },
    {
     "name": "stdout",
     "output_type": "stream",
     "text": [
      "Error: 51368906\n"
     ]
    },
    {
     "data": {
      "text/plain": [
       "51368906"
      ]
     },
     "metadata": {},
     "output_type": "display_data"
    },
    {
     "name": "stderr",
     "output_type": "stream",
     "text": [
      " 98%|█████████▊| 52/53 [02:11<00:04,  4.95s/it]"
     ]
    },
    {
     "name": "stdout",
     "output_type": "stream",
     "text": [
      "Error: 51443180\n"
     ]
    },
    {
     "data": {
      "text/plain": [
       "51443180"
      ]
     },
     "metadata": {},
     "output_type": "display_data"
    },
    {
     "name": "stderr",
     "output_type": "stream",
     "text": [
      "100%|██████████| 53/53 [02:12<00:00,  2.50s/it]\n"
     ]
    }
   ],
   "source": [
    "def fetch_ids_popularity(ids, fetched):\n",
    "    for id_ in tqdm(ids):\n",
    "        title = fetch_title(id_)\n",
    "        if title is None:\n",
    "            fetched.append(Popularity(id_, None))\n",
    "            continue\n",
    "        popularity = fetch_popularity(title)\n",
    "        if popularity is None:\n",
    "            fetched.append(Popularity(id_, None))\n",
    "            continue\n",
    "        fetched.append(Popularity(id_, popularity))\n",
    "    return fetched\n",
    "\n",
    "fetched = fetch_ids_popularity(ids, fetched)"
   ]
  },
  {
   "cell_type": "code",
   "execution_count": 9,
   "metadata": {},
   "outputs": [],
   "source": [
    "def save_fetched(fetched):\n",
    "    df = pd.DataFrame(fetched)\n",
    "    df.to_csv(TEMP_FETCH, index=False)\n",
    "    \n",
    "save_fetched(fetched)"
   ]
  },
  {
   "cell_type": "code",
   "execution_count": 10,
   "metadata": {},
   "outputs": [],
   "source": [
    "def add_fetched_to_db(fetched):\n",
    "    df = pd.DataFrame(fetched)\n",
    "    df = df.set_index('wikiPageID')\n",
    "    try:\n",
    "        conn = sqlite3.connect(DB)\n",
    "        df.to_sql(TABLE_NAME, conn, if_exists='replace')\n",
    "        conn.commit()\n",
    "    finally:\n",
    "        conn.close()\n",
    "        \n",
    "add_fetched_to_db(fetched)"
   ]
  },
  {
   "cell_type": "code",
   "execution_count": null,
   "metadata": {},
   "outputs": [],
   "source": []
  }
 ],
 "metadata": {
  "kernelspec": {
   "display_name": "Python 3",
   "language": "python",
   "name": "python3"
  },
  "language_info": {
   "codemirror_mode": {
    "name": "ipython",
    "version": 3
   },
   "file_extension": ".py",
   "mimetype": "text/x-python",
   "name": "python",
   "nbconvert_exporter": "python",
   "pygments_lexer": "ipython3",
   "version": "3.7.5"
  }
 },
 "nbformat": 4,
 "nbformat_minor": 4
}
