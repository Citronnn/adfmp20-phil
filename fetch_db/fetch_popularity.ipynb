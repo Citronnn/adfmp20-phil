{
 "cells": [
  {
   "cell_type": "code",
   "execution_count": 1,
   "metadata": {},
   "outputs": [],
   "source": [
    "from collections import deque, namedtuple\n",
    "from IPython.display import HTML, display\n",
    "from IPython.core.debugger import set_trace\n",
    "from tqdm import tqdm\n",
    "\n",
    "import pandas as pd\n",
    "import numpy as np\n",
    "import requests\n",
    "import sqlite3\n",
    "import urllib"
   ]
  },
  {
   "cell_type": "code",
   "execution_count": 2,
   "metadata": {},
   "outputs": [],
   "source": [
    "SAMPLE_ID = 25224070\n",
    "START = 20140101\n",
    "END = 20200301\n",
    "\n",
    "DB = './db.sqlite'\n",
    "TABLES = ['PhilosophicalSchool', 'Philosopher', 'NotableIdea', 'MainInterest', 'Era', 'Work']\n",
    "TABLE_NAME = 'WikiPagePopularity'\n",
    "TEMP_FETCH = './_temp_fetch.csv'"
   ]
  },
  {
   "cell_type": "code",
   "execution_count": 3,
   "metadata": {},
   "outputs": [
    {
     "name": "stdout",
     "output_type": "stream",
     "text": [
      "Wikipedia:Pageview statistics\n"
     ]
    }
   ],
   "source": [
    "def fetch_title(page_id):\n",
    "    r = requests.get('https://en.wikipedia.org/w/api.php', params={\n",
    "        'action': 'query',\n",
    "        'prop': 'info',\n",
    "        'pageids': page_id,\n",
    "        'format': 'json'\n",
    "    })\n",
    "    try:\n",
    "         return r.json()['query']['pages'][str(page_id)]['title']\n",
    "    except Exception as exp:\n",
    "        print('Error:', page_id)\n",
    "        display(page_id)\n",
    "    \n",
    "title = fetch_title(SAMPLE_ID)\n",
    "print(title)"
   ]
  },
  {
   "cell_type": "code",
   "execution_count": 4,
   "metadata": {},
   "outputs": [
    {
     "data": {
      "text/plain": [
       "166605"
      ]
     },
     "execution_count": 4,
     "metadata": {},
     "output_type": "execute_result"
    }
   ],
   "source": [
    "def fetch_popularity(page_title):\n",
    "    page_title = urllib.parse.quote_plus(page_title.replace(' ', '_'))\n",
    "    r = requests.get(\n",
    "        'https://wikimedia.org/api/rest_v1/metrics/pageviews/per-article/'\n",
    "        f'en.wikipedia.org/all-access/all-agents/{page_title}/monthly/{START}/{END}'\n",
    "    )\n",
    "    try:\n",
    "        res = r.json()['items']\n",
    "    except Exception as exp:\n",
    "        print('Error:', page_title)\n",
    "        display(exp)\n",
    "        return None\n",
    "    df = pd.DataFrame(res)\n",
    "    return df.views.sum()\n",
    "\n",
    "fetch_popularity(title)"
   ]
  },
  {
   "cell_type": "code",
   "execution_count": 5,
   "metadata": {},
   "outputs": [],
   "source": [
    "def get_ids():\n",
    "    try:\n",
    "        conn = sqlite3.connect(DB)\n",
    "        ids = set()\n",
    "        for table_name in TABLES:\n",
    "            df = pd.read_sql(f'SELECT * FROM {table_name}', conn)\n",
    "            df['wikiPageID'].dropna().apply(lambda val: ids.add(int(val)))\n",
    "    finally:\n",
    "        conn.close\n",
    "    ids = list(ids)\n",
    "    ids.sort()\n",
    "    return ids\n",
    "        \n",
    "ids = get_ids()"
   ]
  },
  {
   "cell_type": "code",
   "execution_count": 6,
   "metadata": {},
   "outputs": [],
   "source": [
    "fetched = deque()\n",
    "Popularity = namedtuple('Popularity', ['wikiPageID', 'total_visits'])"
   ]
  },
  {
   "cell_type": "code",
   "execution_count": 7,
   "metadata": {},
   "outputs": [
    {
     "name": "stdout",
     "output_type": "stream",
     "text": [
      "Total: 5102\n",
      "Restored: 5062\n",
      "None: 40\n",
      "Remaining: 40\n"
     ]
    }
   ],
   "source": [
    "def restore_fetched(ids, fetched):\n",
    "    df = pd.read_csv(TEMP_FETCH)\n",
    "    print('Total:', len(ids))\n",
    "    nones = 0\n",
    "    for id_, pop in df.itertuples(index = False):\n",
    "        if pop is not None and pop > 0:\n",
    "            fetched.append(Popularity(id_, pop))\n",
    "            ids.remove(id_)\n",
    "        else:\n",
    "            nones += 1\n",
    "    print('Restored:', len(fetched))\n",
    "    print('None:', nones)\n",
    "    print('Remaining:', len(ids))\n",
    "        \n",
    "restore_fetched(ids, fetched)"
   ]
  },
  {
   "cell_type": "code",
   "execution_count": 8,
   "metadata": {},
   "outputs": [
    {
     "name": "stderr",
     "output_type": "stream",
     "text": [
      "  2%|▎         | 1/40 [00:01<00:58,  1.51s/it]"
     ]
    },
    {
     "name": "stdout",
     "output_type": "stream",
     "text": [
      "Error: 286153\n"
     ]
    },
    {
     "data": {
      "text/plain": [
       "286153"
      ]
     },
     "metadata": {},
     "output_type": "display_data"
    },
    {
     "name": "stderr",
     "output_type": "stream",
     "text": [
      "  5%|▌         | 2/40 [00:02<00:46,  1.22s/it]"
     ]
    },
    {
     "name": "stdout",
     "output_type": "stream",
     "text": [
      "Error: 1486408\n"
     ]
    },
    {
     "data": {
      "text/plain": [
       "1486408"
      ]
     },
     "metadata": {},
     "output_type": "display_data"
    },
    {
     "name": "stderr",
     "output_type": "stream",
     "text": [
      "  8%|▊         | 3/40 [00:02<00:36,  1.00it/s]"
     ]
    },
    {
     "name": "stdout",
     "output_type": "stream",
     "text": [
      "Error: 1498741\n"
     ]
    },
    {
     "data": {
      "text/plain": [
       "1498741"
      ]
     },
     "metadata": {},
     "output_type": "display_data"
    },
    {
     "name": "stderr",
     "output_type": "stream",
     "text": [
      " 10%|█         | 4/40 [00:03<00:32,  1.12it/s]"
     ]
    },
    {
     "name": "stdout",
     "output_type": "stream",
     "text": [
      "Error: 6197115\n"
     ]
    },
    {
     "data": {
      "text/plain": [
       "6197115"
      ]
     },
     "metadata": {},
     "output_type": "display_data"
    },
    {
     "name": "stderr",
     "output_type": "stream",
     "text": [
      " 12%|█▎        | 5/40 [00:03<00:27,  1.25it/s]"
     ]
    },
    {
     "name": "stdout",
     "output_type": "stream",
     "text": [
      "Error: 6927115\n"
     ]
    },
    {
     "data": {
      "text/plain": [
       "6927115"
      ]
     },
     "metadata": {},
     "output_type": "display_data"
    },
    {
     "name": "stderr",
     "output_type": "stream",
     "text": [
      " 15%|█▌        | 6/40 [00:06<00:51,  1.51s/it]"
     ]
    },
    {
     "name": "stdout",
     "output_type": "stream",
     "text": [
      "Error: 7179351\n"
     ]
    },
    {
     "data": {
      "text/plain": [
       "7179351"
      ]
     },
     "metadata": {},
     "output_type": "display_data"
    },
    {
     "name": "stderr",
     "output_type": "stream",
     "text": [
      " 18%|█▊        | 7/40 [00:07<00:41,  1.25s/it]"
     ]
    },
    {
     "name": "stdout",
     "output_type": "stream",
     "text": [
      "Error: 7655409\n"
     ]
    },
    {
     "data": {
      "text/plain": [
       "7655409"
      ]
     },
     "metadata": {},
     "output_type": "display_data"
    },
    {
     "name": "stderr",
     "output_type": "stream",
     "text": [
      " 20%|██        | 8/40 [00:08<00:33,  1.06s/it]"
     ]
    },
    {
     "name": "stdout",
     "output_type": "stream",
     "text": [
      "Error: 7661785\n"
     ]
    },
    {
     "data": {
      "text/plain": [
       "7661785"
      ]
     },
     "metadata": {},
     "output_type": "display_data"
    },
    {
     "name": "stderr",
     "output_type": "stream",
     "text": [
      " 22%|██▎       | 9/40 [00:09<00:32,  1.05s/it]"
     ]
    },
    {
     "name": "stdout",
     "output_type": "stream",
     "text": [
      "Error: 8253337\n"
     ]
    },
    {
     "data": {
      "text/plain": [
       "8253337"
      ]
     },
     "metadata": {},
     "output_type": "display_data"
    },
    {
     "name": "stderr",
     "output_type": "stream",
     "text": [
      " 25%|██▌       | 10/40 [00:09<00:26,  1.14it/s]"
     ]
    },
    {
     "name": "stdout",
     "output_type": "stream",
     "text": [
      "Error: 8368474\n"
     ]
    },
    {
     "data": {
      "text/plain": [
       "8368474"
      ]
     },
     "metadata": {},
     "output_type": "display_data"
    },
    {
     "name": "stderr",
     "output_type": "stream",
     "text": [
      " 28%|██▊       | 11/40 [00:10<00:23,  1.23it/s]"
     ]
    },
    {
     "name": "stdout",
     "output_type": "stream",
     "text": [
      "Error: 11401875\n"
     ]
    },
    {
     "data": {
      "text/plain": [
       "11401875"
      ]
     },
     "metadata": {},
     "output_type": "display_data"
    },
    {
     "name": "stderr",
     "output_type": "stream",
     "text": [
      " 30%|███       | 12/40 [00:10<00:20,  1.36it/s]"
     ]
    },
    {
     "name": "stdout",
     "output_type": "stream",
     "text": [
      "Error: 13355860\n"
     ]
    },
    {
     "data": {
      "text/plain": [
       "13355860"
      ]
     },
     "metadata": {},
     "output_type": "display_data"
    },
    {
     "name": "stderr",
     "output_type": "stream",
     "text": [
      " 32%|███▎      | 13/40 [00:11<00:17,  1.50it/s]"
     ]
    },
    {
     "name": "stdout",
     "output_type": "stream",
     "text": [
      "Error: 18437404\n"
     ]
    },
    {
     "data": {
      "text/plain": [
       "18437404"
      ]
     },
     "metadata": {},
     "output_type": "display_data"
    },
    {
     "name": "stderr",
     "output_type": "stream",
     "text": [
      " 35%|███▌      | 14/40 [00:12<00:17,  1.47it/s]"
     ]
    },
    {
     "name": "stdout",
     "output_type": "stream",
     "text": [
      "Error: 20627628\n"
     ]
    },
    {
     "data": {
      "text/plain": [
       "20627628"
      ]
     },
     "metadata": {},
     "output_type": "display_data"
    },
    {
     "name": "stderr",
     "output_type": "stream",
     "text": [
      " 38%|███▊      | 15/40 [00:12<00:16,  1.48it/s]"
     ]
    },
    {
     "name": "stdout",
     "output_type": "stream",
     "text": [
      "Error: 22695176\n"
     ]
    },
    {
     "data": {
      "text/plain": [
       "22695176"
      ]
     },
     "metadata": {},
     "output_type": "display_data"
    },
    {
     "name": "stderr",
     "output_type": "stream",
     "text": [
      " 40%|████      | 16/40 [00:13<00:16,  1.49it/s]"
     ]
    },
    {
     "name": "stdout",
     "output_type": "stream",
     "text": [
      "Error: 23040717\n"
     ]
    },
    {
     "data": {
      "text/plain": [
       "23040717"
      ]
     },
     "metadata": {},
     "output_type": "display_data"
    },
    {
     "name": "stderr",
     "output_type": "stream",
     "text": [
      " 42%|████▎     | 17/40 [00:14<00:14,  1.57it/s]"
     ]
    },
    {
     "name": "stdout",
     "output_type": "stream",
     "text": [
      "Error: 23763468\n"
     ]
    },
    {
     "data": {
      "text/plain": [
       "23763468"
      ]
     },
     "metadata": {},
     "output_type": "display_data"
    },
    {
     "name": "stderr",
     "output_type": "stream",
     "text": [
      " 45%|████▌     | 18/40 [00:14<00:13,  1.60it/s]"
     ]
    },
    {
     "name": "stdout",
     "output_type": "stream",
     "text": [
      "Error: 27557728\n"
     ]
    },
    {
     "data": {
      "text/plain": [
       "27557728"
      ]
     },
     "metadata": {},
     "output_type": "display_data"
    },
    {
     "name": "stderr",
     "output_type": "stream",
     "text": [
      " 48%|████▊     | 19/40 [00:15<00:13,  1.56it/s]"
     ]
    },
    {
     "name": "stdout",
     "output_type": "stream",
     "text": [
      "Error: 30846343\n"
     ]
    },
    {
     "data": {
      "text/plain": [
       "30846343"
      ]
     },
     "metadata": {},
     "output_type": "display_data"
    },
    {
     "name": "stderr",
     "output_type": "stream",
     "text": [
      " 50%|█████     | 20/40 [00:15<00:12,  1.61it/s]"
     ]
    },
    {
     "name": "stdout",
     "output_type": "stream",
     "text": [
      "Error: 33230227\n"
     ]
    },
    {
     "data": {
      "text/plain": [
       "33230227"
      ]
     },
     "metadata": {},
     "output_type": "display_data"
    },
    {
     "name": "stderr",
     "output_type": "stream",
     "text": [
      " 52%|█████▎    | 21/40 [00:16<00:11,  1.61it/s]"
     ]
    },
    {
     "name": "stdout",
     "output_type": "stream",
     "text": [
      "Error: 33287285\n"
     ]
    },
    {
     "data": {
      "text/plain": [
       "33287285"
      ]
     },
     "metadata": {},
     "output_type": "display_data"
    },
    {
     "name": "stderr",
     "output_type": "stream",
     "text": [
      " 55%|█████▌    | 22/40 [00:17<00:11,  1.60it/s]"
     ]
    },
    {
     "name": "stdout",
     "output_type": "stream",
     "text": [
      "Error: 33744106\n"
     ]
    },
    {
     "data": {
      "text/plain": [
       "33744106"
      ]
     },
     "metadata": {},
     "output_type": "display_data"
    },
    {
     "name": "stderr",
     "output_type": "stream",
     "text": [
      " 57%|█████▊    | 23/40 [00:18<00:15,  1.07it/s]"
     ]
    },
    {
     "name": "stdout",
     "output_type": "stream",
     "text": [
      "Error: 35844686\n"
     ]
    },
    {
     "data": {
      "text/plain": [
       "35844686"
      ]
     },
     "metadata": {},
     "output_type": "display_data"
    },
    {
     "name": "stderr",
     "output_type": "stream",
     "text": [
      " 60%|██████    | 24/40 [00:19<00:13,  1.20it/s]"
     ]
    },
    {
     "name": "stdout",
     "output_type": "stream",
     "text": [
      "Error: 37563858\n"
     ]
    },
    {
     "data": {
      "text/plain": [
       "37563858"
      ]
     },
     "metadata": {},
     "output_type": "display_data"
    },
    {
     "name": "stderr",
     "output_type": "stream",
     "text": [
      " 62%|██████▎   | 25/40 [00:19<00:11,  1.36it/s]"
     ]
    },
    {
     "name": "stdout",
     "output_type": "stream",
     "text": [
      "Error: 38962106\n"
     ]
    },
    {
     "data": {
      "text/plain": [
       "38962106"
      ]
     },
     "metadata": {},
     "output_type": "display_data"
    },
    {
     "name": "stderr",
     "output_type": "stream",
     "text": [
      " 65%|██████▌   | 26/40 [00:20<00:10,  1.37it/s]"
     ]
    },
    {
     "name": "stdout",
     "output_type": "stream",
     "text": [
      "Error: 39155457\n"
     ]
    },
    {
     "data": {
      "text/plain": [
       "39155457"
      ]
     },
     "metadata": {},
     "output_type": "display_data"
    },
    {
     "name": "stderr",
     "output_type": "stream",
     "text": [
      " 68%|██████▊   | 27/40 [00:21<00:09,  1.37it/s]"
     ]
    },
    {
     "name": "stdout",
     "output_type": "stream",
     "text": [
      "Error: 39681168\n"
     ]
    },
    {
     "data": {
      "text/plain": [
       "39681168"
      ]
     },
     "metadata": {},
     "output_type": "display_data"
    },
    {
     "name": "stderr",
     "output_type": "stream",
     "text": [
      " 70%|███████   | 28/40 [00:21<00:08,  1.47it/s]"
     ]
    },
    {
     "name": "stdout",
     "output_type": "stream",
     "text": [
      "Error: 41082682\n"
     ]
    },
    {
     "data": {
      "text/plain": [
       "41082682"
      ]
     },
     "metadata": {},
     "output_type": "display_data"
    },
    {
     "name": "stderr",
     "output_type": "stream",
     "text": [
      " 72%|███████▎  | 29/40 [00:22<00:07,  1.46it/s]"
     ]
    },
    {
     "name": "stdout",
     "output_type": "stream",
     "text": [
      "Error: 41177736\n"
     ]
    },
    {
     "data": {
      "text/plain": [
       "41177736"
      ]
     },
     "metadata": {},
     "output_type": "display_data"
    },
    {
     "name": "stderr",
     "output_type": "stream",
     "text": [
      " 75%|███████▌  | 30/40 [00:23<00:06,  1.56it/s]"
     ]
    },
    {
     "name": "stdout",
     "output_type": "stream",
     "text": [
      "Error: 47023314\n"
     ]
    },
    {
     "data": {
      "text/plain": [
       "47023314"
      ]
     },
     "metadata": {},
     "output_type": "display_data"
    },
    {
     "name": "stderr",
     "output_type": "stream",
     "text": [
      " 78%|███████▊  | 31/40 [00:24<00:07,  1.17it/s]"
     ]
    },
    {
     "name": "stdout",
     "output_type": "stream",
     "text": [
      "Error: 47040274\n"
     ]
    },
    {
     "data": {
      "text/plain": [
       "47040274"
      ]
     },
     "metadata": {},
     "output_type": "display_data"
    },
    {
     "name": "stderr",
     "output_type": "stream",
     "text": [
      " 80%|████████  | 32/40 [00:25<00:06,  1.30it/s]"
     ]
    },
    {
     "name": "stdout",
     "output_type": "stream",
     "text": [
      "Error: 47432404\n"
     ]
    },
    {
     "data": {
      "text/plain": [
       "47432404"
      ]
     },
     "metadata": {},
     "output_type": "display_data"
    },
    {
     "name": "stderr",
     "output_type": "stream",
     "text": [
      " 82%|████████▎ | 33/40 [00:25<00:05,  1.22it/s]"
     ]
    },
    {
     "name": "stdout",
     "output_type": "stream",
     "text": [
      "Error: 50511439\n"
     ]
    },
    {
     "data": {
      "text/plain": [
       "50511439"
      ]
     },
     "metadata": {},
     "output_type": "display_data"
    },
    {
     "name": "stderr",
     "output_type": "stream",
     "text": [
      " 85%|████████▌ | 34/40 [00:26<00:04,  1.31it/s]"
     ]
    },
    {
     "name": "stdout",
     "output_type": "stream",
     "text": [
      "Error: 51360124\n"
     ]
    },
    {
     "data": {
      "text/plain": [
       "51360124"
      ]
     },
     "metadata": {},
     "output_type": "display_data"
    },
    {
     "name": "stderr",
     "output_type": "stream",
     "text": [
      " 88%|████████▊ | 35/40 [00:27<00:03,  1.37it/s]"
     ]
    },
    {
     "name": "stdout",
     "output_type": "stream",
     "text": [
      "Error: 51360363\n"
     ]
    },
    {
     "data": {
      "text/plain": [
       "51360363"
      ]
     },
     "metadata": {},
     "output_type": "display_data"
    },
    {
     "name": "stderr",
     "output_type": "stream",
     "text": [
      " 90%|█████████ | 36/40 [00:29<00:04,  1.09s/it]"
     ]
    },
    {
     "name": "stdout",
     "output_type": "stream",
     "text": [
      "Error: 51360495\n"
     ]
    },
    {
     "data": {
      "text/plain": [
       "51360495"
      ]
     },
     "metadata": {},
     "output_type": "display_data"
    },
    {
     "name": "stderr",
     "output_type": "stream",
     "text": [
      " 92%|█████████▎| 37/40 [00:30<00:03,  1.12s/it]"
     ]
    },
    {
     "name": "stdout",
     "output_type": "stream",
     "text": [
      "Error: 51360731\n"
     ]
    },
    {
     "data": {
      "text/plain": [
       "51360731"
      ]
     },
     "metadata": {},
     "output_type": "display_data"
    },
    {
     "name": "stderr",
     "output_type": "stream",
     "text": [
      " 95%|█████████▌| 38/40 [00:30<00:01,  1.04it/s]"
     ]
    },
    {
     "name": "stdout",
     "output_type": "stream",
     "text": [
      "Error: 51368906\n"
     ]
    },
    {
     "data": {
      "text/plain": [
       "51368906"
      ]
     },
     "metadata": {},
     "output_type": "display_data"
    },
    {
     "name": "stderr",
     "output_type": "stream",
     "text": [
      " 98%|█████████▊| 39/40 [00:33<00:01,  1.28s/it]"
     ]
    },
    {
     "name": "stdout",
     "output_type": "stream",
     "text": [
      "Error: 51443180\n"
     ]
    },
    {
     "data": {
      "text/plain": [
       "51443180"
      ]
     },
     "metadata": {},
     "output_type": "display_data"
    },
    {
     "name": "stderr",
     "output_type": "stream",
     "text": [
      "100%|██████████| 40/40 [00:33<00:00,  1.19it/s]\n"
     ]
    }
   ],
   "source": [
    "def fetch_ids_popularity(ids, fetched):\n",
    "    for id_ in tqdm(ids):\n",
    "        title = fetch_title(id_)\n",
    "        if title is None:\n",
    "            fetched.append(Popularity(id_, None))\n",
    "            continue\n",
    "        popularity = fetch_popularity(title)\n",
    "        if popularity is None:\n",
    "            fetched.append(Popularity(id_, None))\n",
    "            continue\n",
    "        fetched.append(Popularity(id_, popularity))\n",
    "    return fetched\n",
    "\n",
    "fetched = fetch_ids_popularity(ids, fetched)"
   ]
  },
  {
   "cell_type": "code",
   "execution_count": 9,
   "metadata": {},
   "outputs": [],
   "source": [
    "def save_fetched(fetched):\n",
    "    df = pd.DataFrame(fetched)\n",
    "    df.to_csv(TEMP_FETCH, index=False)\n",
    "    \n",
    "save_fetched(fetched)"
   ]
  },
  {
   "cell_type": "code",
   "execution_count": 11,
   "metadata": {},
   "outputs": [],
   "source": [
    "def add_fetched_to_db(fetched):\n",
    "    df = pd.DataFrame(fetched)\n",
    "    df = df.set_index('wikiPageID')\n",
    "    try:\n",
    "        conn = sqlite3.connect(DB)\n",
    "        df.to_sql(TABLE_NAME, conn, if_exists='replace')\n",
    "        conn.commit()\n",
    "    finally:\n",
    "        conn.close()\n",
    "        \n",
    "add_fetched_to_db(fetched)"
   ]
  },
  {
   "cell_type": "code",
   "execution_count": null,
   "metadata": {},
   "outputs": [],
   "source": []
  }
 ],
 "metadata": {
  "kernelspec": {
   "display_name": "Python 3",
   "language": "python",
   "name": "python3"
  },
  "language_info": {
   "codemirror_mode": {
    "name": "ipython",
    "version": 3
   },
   "file_extension": ".py",
   "mimetype": "text/x-python",
   "name": "python",
   "nbconvert_exporter": "python",
   "pygments_lexer": "ipython3",
   "version": "3.7.5"
  }
 },
 "nbformat": 4,
 "nbformat_minor": 4
}
